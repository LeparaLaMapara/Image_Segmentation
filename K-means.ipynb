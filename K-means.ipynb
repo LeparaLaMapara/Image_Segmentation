{
 "cells": [
  {
   "cell_type": "code",
   "execution_count": 21,
   "metadata": {},
   "outputs": [],
   "source": [
    "import numpy as np\n",
    "import sklearn\n",
    "import matplotlib.pyplot as plt\n",
    "import matplotlib.image as mpimg\n",
    "import glob\n",
    "import os"
   ]
  },
  {
   "cell_type": "code",
   "execution_count": 65,
   "metadata": {},
   "outputs": [],
   "source": [
    "def load_images(root):\n",
    "    images = []\n",
    "    cnt_1 = 0\n",
    "    cnt_2 = 0\n",
    "    for image_name in glob.glob(f'{root}/*.jpg'):\n",
    "        image = mpimg.imread(image_name)\n",
    "        if image.shape[0] == 481:\n",
    "            cnt_1 += 1\n",
    "        else:\n",
    "            cnt_2 += 1\n",
    "        images.append(mpimg.imread(image_name))\n",
    "    print(cnt_1, cnt_2)\n",
    "    return images"
   ]
  },
  {
   "cell_type": "code",
   "execution_count": 66,
   "metadata": {},
   "outputs": [
    {
     "name": "stdout",
     "output_type": "stream",
     "text": [
      "66 134\n",
      "0 0\n",
      "(481, 321, 3)\n"
     ]
    }
   ],
   "source": [
    "root_test, root_gt = 'BSR_bsds500/BSR/BSDS500/data/images/test/', 'BSR_bsds500/BSR/BSDS500/data/groundTruth/test/'\n",
    "test_images = [] \n",
    "gt_images = []\n",
    "test_images = load_images(root_test)\n",
    "gt_images = load_images(root_gt)\n",
    "print(test_images[0].shape)\n",
    "# plt.imshow(test_images.shape)\n",
    "# plt.show()\n"
   ]
  },
  {
   "cell_type": "code",
   "execution_count": null,
   "metadata": {
    "collapsed": true
   },
   "outputs": [],
   "source": []
  }
 ],
 "metadata": {
  "kernelspec": {
   "display_name": "Python 3",
   "language": "python",
   "name": "python3"
  },
  "language_info": {
   "codemirror_mode": {
    "name": "ipython",
    "version": 3
   },
   "file_extension": ".py",
   "mimetype": "text/x-python",
   "name": "python",
   "nbconvert_exporter": "python",
   "pygments_lexer": "ipython3",
   "version": "3.6.3"
  }
 },
 "nbformat": 4,
 "nbformat_minor": 2
}
